{
  "nbformat": 4,
  "nbformat_minor": 0,
  "metadata": {
    "colab": {
      "name": "tarefa6_MPCC_Guilherme_Augusto_Barreta.ipynb",
      "provenance": [],
      "collapsed_sections": [],
      "mount_file_id": "1LoE_km4xAfNqcZgAMj7UVVWbl7qlf3n_",
      "authorship_tag": "ABX9TyMaQvJZsiiXO5GltOGiJ5zc",
      "include_colab_link": true
    },
    "kernelspec": {
      "name": "python3",
      "display_name": "Python 3"
    },
    "language_info": {
      "name": "python"
    }
  },
  "cells": [
    {
      "cell_type": "markdown",
      "metadata": {
        "id": "view-in-github",
        "colab_type": "text"
      },
      "source": [
        "<a href=\"https://colab.research.google.com/github/GuilhermeBarreta/datasets/blob/main/tarefa6_MPCC_Guilherme_Augusto_Barreta.ipynb\" target=\"_parent\"><img src=\"https://colab.research.google.com/assets/colab-badge.svg\" alt=\"Open In Colab\"/></a>"
      ]
    },
    {
      "cell_type": "markdown",
      "metadata": {
        "id": "9tkjgotjtvTv"
      },
      "source": [
        "#1 Explorando os dados do artigo \"Big Data analytics in Agile software development A systematic mapping\""
      ]
    },
    {
      "cell_type": "markdown",
      "metadata": {
        "id": "Tqc-FeIiuW42"
      },
      "source": [
        "##1.1 Carregando e Tratando os dados"
      ]
    },
    {
      "cell_type": "markdown",
      "metadata": {
        "id": "K6j5D14Lt73i"
      },
      "source": [
        "primeiramente importamos os dados."
      ]
    },
    {
      "cell_type": "code",
      "metadata": {
        "id": "3WoDJNL4Ef1y"
      },
      "source": [
        "import numpy as np\n",
        "import pandas as pd\n",
        "url = 'https://raw.githubusercontent.com/GuilhermeBarreta/datasets/main/Mapping_Study-BDA_in_ASD.csv'\n",
        "df = pd.read_csv(url, sep =';')"
      ],
      "execution_count": 72,
      "outputs": []
    },
    {
      "cell_type": "markdown",
      "metadata": {
        "id": "_KEecm-muFFK"
      },
      "source": [
        "carregando o matplotlib para plotar os gráficos."
      ]
    },
    {
      "cell_type": "code",
      "metadata": {
        "id": "VtMmoDVa1eg9"
      },
      "source": [
        "import matplotlib.pyplot as plt"
      ],
      "execution_count": 73,
      "outputs": []
    },
    {
      "cell_type": "markdown",
      "metadata": {
        "id": "xpjYCXmJSs43"
      },
      "source": [
        "obtendo o número de autores por artigo e renomeando as colunas de ano e afiliação\n",
        "\n"
      ]
    },
    {
      "cell_type": "code",
      "metadata": {
        "id": "gde6Jv5scK59"
      },
      "source": [
        "import re #biblioteca de expressões regulares\n",
        "df['num_autores'] = df['RQ 1.3 Country'].map(lambda txt: sum([int(i) for i in re.findall(r'\\b\\d+\\b',txt)]))\n",
        "df= df.rename(columns={'RQ 1.4 Author\\'s affiliation':'Afiliação','RQ 1.1 Year':'Ano'}, inplace = False)"
      ],
      "execution_count": 74,
      "outputs": []
    },
    {
      "cell_type": "markdown",
      "metadata": {
        "id": "_G0KNKbtuMW2"
      },
      "source": [
        "##1.2 Boxplot"
      ]
    },
    {
      "cell_type": "markdown",
      "metadata": {
        "id": "vabnopTRKI2y"
      },
      "source": [
        "tratando os valores para o boxplot"
      ]
    },
    {
      "cell_type": "code",
      "metadata": {
        "id": "nlh79_5Mq223"
      },
      "source": [
        "bxpt_df = df.loc[:,['num_autores','Afiliação']]\n",
        "total = df.loc[:,['num_autores','Afiliação']]\n",
        "total['Afiliação'] = 'Total'\n",
        "bxpt_df = bxpt_df.append(total)\n",
        "labels = ['Total', 'Academic', 'Industry','Both']\n",
        "#bxpt_df.boxplot(column = ['num_autores'], by =['afiliação'], figsize = (15,7))\n",
        "dataset  = np.array([\n",
        "                     [n for n, a in zip(bxpt_df['num_autores'], bxpt_df['Afiliação'])\n",
        "                     if a==l]\n",
        "                     for l in labels\n",
        "                    ], dtype=object)"
      ],
      "execution_count": 75,
      "outputs": []
    },
    {
      "cell_type": "markdown",
      "metadata": {
        "id": "dOsccP3QKPhF"
      },
      "source": [
        "plotagem do boxplot"
      ]
    },
    {
      "cell_type": "code",
      "metadata": {
        "colab": {
          "base_uri": "https://localhost:8080/",
          "height": 472
        },
        "id": "9NxgNmZXDau2",
        "outputId": "a02720af-be16-4a4b-c211-9be10094b050"
      },
      "source": [
        "# Visualizar distribuição do número de artigos por afiliação\n",
        "fig, ax = plt.subplots(figsize=(12, 7))\n",
        "# Remove top and right border\n",
        "ax.spines['top'].set_visible(False)\n",
        "ax.spines['right'].set_visible(False)\n",
        "ax.spines['left'].set_visible(False)\n",
        "\n",
        "# Remove y-axis tick marks\n",
        "ax.yaxis.set_ticks_position('none')\n",
        "# Add major gridlines in the y-axis\n",
        "ax.grid(color='grey', axis='y', linestyle='-', linewidth=0.25, alpha=0.5)\n",
        "\n",
        "# Set plot title\n",
        "ax.set_title('Distribuição do número de artigos por afiliação', fontsize='xx-large')\n",
        "#ax.set_xticks(np.arange(0,len(labels)), labels)\n",
        "ax.xaxis.set_tick_params(labelsize=15)\n",
        "plt.xlabel('Afiliações', fontsize='x-large')\n",
        "plt.ylabel('Número de artigos', fontsize='x-large')\n",
        "ax.boxplot(dataset, labels=labels)\n",
        "plt.show()\n",
        "\n"
      ],
      "execution_count": 76,
      "outputs": [
        {
          "output_type": "display_data",
          "data": {
            "image/png": "[encoded data removed]",
            "text/plain": [
              "<Figure size 864x504 with 1 Axes>"
            ]
          },
          "metadata": {
            "tags": [],
            "needs_background": "light"
          }
        }
      ]
    },
    {
      "cell_type": "markdown",
      "metadata": {
        "id": "jV-GH5_8ugtb"
      },
      "source": [
        "Esse Boxplot informa a distribuição de artigos por afiliação de autores. É possível intepretar que os artigos da área Industrial envolve mais autores do que da área acadêmica. Na média geral, um artigo envolve 4 autores."
      ]
    },
    {
      "cell_type": "markdown",
      "metadata": {
        "id": "qFcCktD_uzVf"
      },
      "source": [
        "##1.3 Gráfico de Barras"
      ]
    },
    {
      "cell_type": "markdown",
      "metadata": {
        "id": "yLQQv3ugvOq4"
      },
      "source": [
        "Tratando os dados para o gráfico de barra."
      ]
    },
    {
      "cell_type": "code",
      "metadata": {
        "id": "0vw33vfOeeaZ"
      },
      "source": [
        "df['count_id'] = 1\n",
        "bar_df = df.groupby(by=['Ano','Afiliação']).sum('count_id')\n",
        "bar_df = bar_df.reset_index()\n",
        "anos_complementares = pd.DataFrame([\n",
        "                                    {'Ano':i, 'Afiliação':j, 'count_id':0} \n",
        "                                    for i in bar_df['Ano'].unique() \n",
        "                                    for j in bar_df['Afiliação'].unique() \n",
        "                                    if (i,j) not in zip(bar_df['Ano'], bar_df['Afiliação'])])\n",
        "bar_df = bar_df.append(anos_complementares).reset_index().sort_values(by=['Afiliação', 'Ano'])"
      ],
      "execution_count": 77,
      "outputs": []
    },
    {
      "cell_type": "markdown",
      "metadata": {
        "id": "ckE7U8I7vS3D"
      },
      "source": [
        "plotagem do gráfico de barra."
      ]
    },
    {
      "cell_type": "code",
      "metadata": {
        "id": "Mpxrg0Imcgl1",
        "colab": {
          "base_uri": "https://localhost:8080/",
          "height": 484
        },
        "outputId": "cb85ee3b-7c3a-4671-bd19-a220149127f0"
      },
      "source": [
        "\n",
        "fig, ax = plt.subplots(figsize=(12, 7))\n",
        "X = list(bar_df['Ano'].unique())\n",
        "Y1 = bar_df[bar_df['Afiliação']=='Industry']['count_id']\n",
        "Y2 = bar_df[bar_df['Afiliação']=='Academic']['count_id']\n",
        "Y3 = bar_df[bar_df['Afiliação']=='Both']['count_id']\n",
        "\n",
        "ax.bar(X, Y1, label='Industry', color='orange')\n",
        "ax.bar(X, Y2, label='Academic', color='green', bottom=Y1)\n",
        "ax.bar(X, Y3, label='Both', color='blue', bottom=Y1)\n",
        "ax.set_title('Evolução no tempo do número de artigos por afiliação', fontsize='xx-large')\n",
        "ax.legend(loc='upper left')\n",
        "plt.xlabel('Anos', fontsize='x-large')\n",
        "plt.ylabel('Número de artigos', fontsize='x-large')"
      ],
      "execution_count": 78,
      "outputs": [
        {
          "output_type": "execute_result",
          "data": {
            "text/plain": [
              "Text(0, 0.5, 'Número de artigos')"
            ]
          },
          "metadata": {
            "tags": []
          },
          "execution_count": 78
        },
        {
          "output_type": "display_data",
          "data": {
            "image/png": "[encoded data removed]",
            "text/plain": [
              "<Figure size 864x504 with 1 Axes>"
            ]
          },
          "metadata": {
            "tags": [],
            "needs_background": "light"
          }
        }
      ]
    },
    {
      "cell_type": "markdown",
      "metadata": {
        "id": "Vc9TYPwwvXBN"
      },
      "source": [
        "Esse gráfico de barra informa a Evolução do número de artigos por afiliação ao longo dos anos. É possível interpretar que o número total de artigos tende a aumentar. No entanto o mesmo não ocorre por afiliação, podendo aumentar como diminuir."
      ]
    }
  ]
}